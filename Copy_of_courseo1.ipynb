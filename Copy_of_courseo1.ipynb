{
  "nbformat": 4,
  "nbformat_minor": 0,
  "metadata": {
    "colab": {
      "name": "Copy of courseo1.ipynb",
      "provenance": [],
      "collapsed_sections": [],
      "authorship_tag": "ABX9TyOU0naGxLo8EhSH2UtISEyg"
    },
    "kernelspec": {
      "name": "python3",
      "display_name": "Python 3"
    },
    "language_info": {
      "name": "python"
    }
  },
  "cells": [
    {
      "cell_type": "code",
      "metadata": {
        "colab": {
          "base_uri": "https://localhost:8080/"
        },
        "id": "hBPQ2OPbhkMr",
        "outputId": "5c3f318c-a5e7-4c15-9932-12eed8ede11a"
      },
      "source": [
        "import numpy as np\n",
        "arr=np.array([1,2,3,4])\n",
        "print(\"list:\",arr)"
      ],
      "execution_count": null,
      "outputs": [
        {
          "output_type": "stream",
          "name": "stdout",
          "text": [
            "list: [1 2 3 4]\n"
          ]
        }
      ]
    },
    {
      "cell_type": "code",
      "metadata": {
        "colab": {
          "base_uri": "https://localhost:8080/"
        },
        "id": "0YU5dIPrimbk",
        "outputId": "19ebc7f6-a84e-47c0-c161-89e95d0c4a78"
      },
      "source": [
        "import numpy as np\n",
        "arr=np.array([1,2,3,4])\n",
        "print(\"array:\",arr)\n",
        "print(\"type of the array:\",type(arr))"
      ],
      "execution_count": null,
      "outputs": [
        {
          "output_type": "stream",
          "name": "stdout",
          "text": [
            "array: [1 2 3 4]\n",
            "type of the array: <class 'numpy.ndarray'>\n"
          ]
        }
      ]
    },
    {
      "cell_type": "code",
      "metadata": {
        "colab": {
          "base_uri": "https://localhost:8080/"
        },
        "id": "ozn0H5IrjN1z",
        "outputId": "807ad3bc-dfe3-4ce0-da0c-918c2ff42fc6"
      },
      "source": [
        "import numpy as np\n",
        "tup=(1,2,3,4)\n",
        "print(\"tuple is:\\n\",tup)\n",
        "print(type(tup))\n",
        "print(\"convert tuple to list:\")\n",
        "arr=np.asarray(tup)\n",
        "print(arr)\n",
        "print(type(arr))"
      ],
      "execution_count": null,
      "outputs": [
        {
          "output_type": "stream",
          "name": "stdout",
          "text": [
            "tuple is:\n",
            " (1, 2, 3, 4)\n",
            "<class 'tuple'>\n",
            "convert tuple to list:\n",
            "[1 2 3 4]\n",
            "<class 'numpy.ndarray'>\n"
          ]
        }
      ]
    },
    {
      "cell_type": "code",
      "metadata": {
        "colab": {
          "base_uri": "https://localhost:8080/"
        },
        "id": "qWUbJynZkUKb",
        "outputId": "575200c1-10b2-4b24-cba4-d2e43f45d87d"
      },
      "source": [
        "import numpy as np\n",
        "a=np.array([1,2,3,4])\n",
        "print(\"1D array:\")\n",
        "print(a)"
      ],
      "execution_count": null,
      "outputs": [
        {
          "output_type": "stream",
          "name": "stdout",
          "text": [
            "1D array:\n",
            "[1 2 3 4]\n"
          ]
        }
      ]
    },
    {
      "cell_type": "code",
      "metadata": {
        "colab": {
          "base_uri": "https://localhost:8080/"
        },
        "id": "dTHtFNG4lt2d",
        "outputId": "905b3c70-d62f-4918-a2fd-c847b4e278bc"
      },
      "source": [
        "import numpy as np\n",
        "a=np.array([[1,2,3,4],[5,6,7,8]])\n",
        "print(\"2D array:\")\n",
        "print(a)"
      ],
      "execution_count": null,
      "outputs": [
        {
          "output_type": "stream",
          "name": "stdout",
          "text": [
            "2D array:\n",
            "[[1 2 3 4]\n",
            " [5 6 7 8]]\n"
          ]
        }
      ]
    },
    {
      "cell_type": "code",
      "metadata": {
        "colab": {
          "base_uri": "https://localhost:8080/"
        },
        "id": "G2oZo0rQnFR8",
        "outputId": "a5b72395-697d-4f50-d9ee-9b5d14cbe7ce"
      },
      "source": [
        "import numpy as np\n",
        "a=np.array([[1,2,3,4],[5,6,7,8]])\n",
        "print(\"dimension is:\\n\",a.shape)"
      ],
      "execution_count": null,
      "outputs": [
        {
          "output_type": "stream",
          "name": "stdout",
          "text": [
            "dimension is:\n",
            " (2, 4)\n"
          ]
        }
      ]
    },
    {
      "cell_type": "code",
      "metadata": {
        "colab": {
          "base_uri": "https://localhost:8080/"
        },
        "id": "mAtBfFzCoOtt",
        "outputId": "329ea5a6-96b2-4489-b20a-60702da55be0"
      },
      "source": [
        "import numpy as np\n",
        "arr=np.array([1,2,3,4,5,6])\n",
        "newarr=arr.reshape(3,2)\n",
        "print(\"Reshaped array is:\\n\",newarr)"
      ],
      "execution_count": null,
      "outputs": [
        {
          "output_type": "stream",
          "name": "stdout",
          "text": [
            "Reshaped array is:\n",
            " [[1 2]\n",
            " [3 4]\n",
            " [5 6]]\n"
          ]
        }
      ]
    },
    {
      "cell_type": "code",
      "metadata": {
        "colab": {
          "base_uri": "https://localhost:8080/"
        },
        "id": "RJlVtfn0qzTl",
        "outputId": "58861d05-0b53-4ccb-90b6-1bbf0ea62f09"
      },
      "source": [
        "import numpy as np\n",
        "a=np.zeros([2,2])\n",
        "print(\"zero matrix:\\n\",a)"
      ],
      "execution_count": null,
      "outputs": [
        {
          "output_type": "stream",
          "name": "stdout",
          "text": [
            "zero matrix:\n",
            " [[0. 0.]\n",
            " [0. 0.]]\n"
          ]
        }
      ]
    },
    {
      "cell_type": "code",
      "metadata": {
        "colab": {
          "base_uri": "https://localhost:8080/"
        },
        "id": "TgXu4ixarOTk",
        "outputId": "0308a040-fa0d-43d0-c505-cb07f6ff73b8"
      },
      "source": [
        "import numpy as np\n",
        "a=np.zeros(2)\n",
        "print(\"zero matrix:\\n\",a)"
      ],
      "execution_count": null,
      "outputs": [
        {
          "output_type": "stream",
          "name": "stdout",
          "text": [
            "zero matrix:\n",
            " [0. 0.]\n"
          ]
        }
      ]
    },
    {
      "cell_type": "code",
      "metadata": {
        "colab": {
          "base_uri": "https://localhost:8080/"
        },
        "id": "XSPrGbDQrVKD",
        "outputId": "70ed85af-026f-471d-9212-094e3c78296f"
      },
      "source": [
        "import numpy as np\n",
        "a=np.ones([4,4])\n",
        "print(\"ones matrix:\\n\",a)"
      ],
      "execution_count": null,
      "outputs": [
        {
          "output_type": "stream",
          "name": "stdout",
          "text": [
            "ones matrix:\n",
            " [[1. 1. 1. 1.]\n",
            " [1. 1. 1. 1.]\n",
            " [1. 1. 1. 1.]\n",
            " [1. 1. 1. 1.]]\n"
          ]
        }
      ]
    },
    {
      "cell_type": "code",
      "metadata": {
        "colab": {
          "base_uri": "https://localhost:8080/"
        },
        "id": "HJ5I6AVGrh1b",
        "outputId": "6bef586e-bcdf-48c4-b3ea-aa412707daea"
      },
      "source": [
        "import numpy as np\n",
        "a=np.ones([4,4],dtype=int)\n",
        "print(\"ones matrix in integer:\\n\",a)"
      ],
      "execution_count": null,
      "outputs": [
        {
          "output_type": "stream",
          "name": "stdout",
          "text": [
            "ones matrix in integer:\n",
            " [[1 1 1 1]\n",
            " [1 1 1 1]\n",
            " [1 1 1 1]\n",
            " [1 1 1 1]]\n"
          ]
        }
      ]
    },
    {
      "cell_type": "code",
      "metadata": {
        "colab": {
          "base_uri": "https://localhost:8080/"
        },
        "id": "iM3zkoxhsKKT",
        "outputId": "e02e4ca3-f87d-4126-eb42-9c87d893d314"
      },
      "source": [
        "import numpy as np\n",
        "a=np.eye(3,3,dtype=int)\n",
        "print(\"identity matrix:\\n\",a)"
      ],
      "execution_count": null,
      "outputs": [
        {
          "output_type": "stream",
          "name": "stdout",
          "text": [
            "identity matrix:\n",
            " [[1 0 0]\n",
            " [0 1 0]\n",
            " [0 0 1]]\n"
          ]
        }
      ]
    },
    {
      "cell_type": "code",
      "metadata": {
        "colab": {
          "base_uri": "https://localhost:8080/"
        },
        "id": "wwHHs16wtFM1",
        "outputId": "955720fd-5c73-48e7-c930-402932501c60"
      },
      "source": [
        "import numpy as np\n",
        "a=np.eye(3,3)\n",
        "print(\"identity matrix:\\n\",a)"
      ],
      "execution_count": null,
      "outputs": [
        {
          "output_type": "stream",
          "name": "stdout",
          "text": [
            "identity matrix:\n",
            " [[1. 0. 0.]\n",
            " [0. 1. 0.]\n",
            " [0. 0. 1.]]\n"
          ]
        }
      ]
    },
    {
      "cell_type": "code",
      "metadata": {
        "colab": {
          "base_uri": "https://localhost:8080/"
        },
        "id": "MDi-OD74t0dd",
        "outputId": "8f0c4033-28b2-4496-ad81-0dbf3c060b34"
      },
      "source": [
        "import numpy as np\n",
        "a=np.arange(0,11)\n",
        "print(\"Range is:\\n\",a)"
      ],
      "execution_count": null,
      "outputs": [
        {
          "output_type": "stream",
          "name": "stdout",
          "text": [
            "identity matrix:\n",
            " [ 0  1  2  3  4  5  6  7  8  9 10]\n"
          ]
        }
      ]
    },
    {
      "cell_type": "code",
      "metadata": {
        "colab": {
          "base_uri": "https://localhost:8080/"
        },
        "id": "Uxw3qVaGuIut",
        "outputId": "f1be715b-dda4-4545-fc70-fc661dce1af2"
      },
      "source": [
        "import numpy as np\n",
        "a=int(input(\"enter a start value:\"))\n",
        "b=int(input(\"enter a end value:\"))\n",
        "a=np.arange(a,b)\n",
        "print(\"identity matrix:\\n\",a)"
      ],
      "execution_count": null,
      "outputs": [
        {
          "output_type": "stream",
          "name": "stdout",
          "text": [
            "enter a start value:0\n",
            "enter a end value:11\n",
            "identity matrix:\n",
            " [ 0  1  2  3  4  5  6  7  8  9 10]\n"
          ]
        }
      ]
    },
    {
      "cell_type": "code",
      "metadata": {
        "colab": {
          "base_uri": "https://localhost:8080/"
        },
        "id": "Leh3eGVau1pc",
        "outputId": "166d3a61-c8eb-4efe-fbbe-535e56c49beb"
      },
      "source": [
        "import numpy as np\n",
        "a=np.array([2,4,6,8])\n",
        "b=np.array([3,5,9,11])\n",
        "c=np.add(a,b)\n",
        "d=(a-b)\n",
        "e=(b-a)\n",
        "f=(a**2)\n",
        "print(\"addition of 2 1D array:\\n\",c)\n",
        "print(\"a-b of 2 1D array:\\n\",d)\n",
        "print(\"b-a of 2 1D array:\\n\",e)\n",
        "print(\"a**2 of 2 1D array:\\n\",f)\n",
        "\n",
        "\n"
      ],
      "execution_count": null,
      "outputs": [
        {
          "output_type": "stream",
          "name": "stdout",
          "text": [
            "addition of 2 1D array:\n",
            " [ 5  9 15 19]\n",
            "a-b of 2 1D array:\n",
            " [-1 -1 -3 -3]\n",
            "b-a of 2 1D array:\n",
            " [1 1 3 3]\n",
            "a**2 of 2 1D array:\n",
            " [ 4 16 36 64]\n"
          ]
        }
      ]
    },
    {
      "cell_type": "code",
      "metadata": {
        "colab": {
          "base_uri": "https://localhost:8080/"
        },
        "id": "ybj3qYWUyJEN",
        "outputId": "31c00ca8-ed9c-45f5-b023-b2329e49be6e"
      },
      "source": [
        "import numpy as np\n",
        "a=np.linspace(2,3,num=7)\n",
        "print(a)"
      ],
      "execution_count": null,
      "outputs": [
        {
          "output_type": "stream",
          "name": "stdout",
          "text": [
            "[2.         2.16666667 2.33333333 2.5        2.66666667 2.83333333\n",
            " 3.        ]\n"
          ]
        }
      ]
    },
    {
      "cell_type": "code",
      "metadata": {
        "colab": {
          "base_uri": "https://localhost:8080/"
        },
        "id": "dcCrnTs7zxOt",
        "outputId": "81da1323-903b-4cad-f8ea-cf8a18a9c71f"
      },
      "source": [
        "import numpy as np\n",
        "a=np.linspace(2,3,num=7,dtype=int)\n",
        "print(a)"
      ],
      "execution_count": null,
      "outputs": [
        {
          "output_type": "stream",
          "name": "stdout",
          "text": [
            "[2 2 2 2 2 2 3]\n"
          ]
        }
      ]
    },
    {
      "cell_type": "code",
      "metadata": {
        "colab": {
          "base_uri": "https://localhost:8080/"
        },
        "id": "yC1kxXn1z53E",
        "outputId": "51ff2ccd-0783-474a-877d-7d4f0257ac66"
      },
      "source": [
        "import numpy as np\n",
        "a=np.linspace(2,3,num=7,endpoint=False,dtype=int)\n",
        "print(a)"
      ],
      "execution_count": null,
      "outputs": [
        {
          "output_type": "stream",
          "name": "stdout",
          "text": [
            "[2 2 2 2 2 2 2]\n"
          ]
        }
      ]
    },
    {
      "cell_type": "code",
      "metadata": {
        "colab": {
          "base_uri": "https://localhost:8080/"
        },
        "id": "fdFf02570EGc",
        "outputId": "898fab0a-4921-4f35-95ac-d69623a085cb"
      },
      "source": [
        "import numpy as np\n",
        "a=np.linspace(2,3,num=7,endpoint=True,dtype=int)\n",
        "print(a)"
      ],
      "execution_count": null,
      "outputs": [
        {
          "output_type": "stream",
          "name": "stdout",
          "text": [
            "[2 2 2 2 2 2 3]\n"
          ]
        }
      ]
    },
    {
      "cell_type": "code",
      "metadata": {
        "colab": {
          "base_uri": "https://localhost:8080/"
        },
        "id": "ANvgwTPG0L2k",
        "outputId": "9abffd3b-5110-4809-c5e3-30e4867d9078"
      },
      "source": [
        "import numpy as np\n",
        "a=np.linspace(2,3,num=7,retstep=True,dtype=int)\n",
        "print(a)"
      ],
      "execution_count": null,
      "outputs": [
        {
          "output_type": "stream",
          "name": "stdout",
          "text": [
            "(array([2, 2, 2, 2, 2, 2, 3]), 0.16666666666666666)\n"
          ]
        }
      ]
    },
    {
      "cell_type": "code",
      "metadata": {
        "colab": {
          "base_uri": "https://localhost:8080/"
        },
        "id": "PQqh8RWG0yvO",
        "outputId": "78e4fde9-b8a4-4626-cbc0-1226f358cdf3"
      },
      "source": [
        "import numpy as np\n",
        "arr=np.array([1,2,3,4,5,6])\n",
        "print(\"array is:\\n\",arr)\n",
        "arr.resize(3,3)\n",
        "print(\"Resized array is:\\n\",arr)"
      ],
      "execution_count": null,
      "outputs": [
        {
          "output_type": "stream",
          "name": "stdout",
          "text": [
            "array is:\n",
            " [1 2 3 4 5 6]\n",
            "Resized array is:\n",
            " [[1 2 3]\n",
            " [4 5 6]\n",
            " [0 0 0]]\n"
          ]
        }
      ]
    },
    {
      "cell_type": "code",
      "metadata": {
        "id": "PLoKC8pM2sQW"
      },
      "source": [
        "import numpy as np\n",
        "x=np.rand(5)\n",
        "print (x)"
      ],
      "execution_count": null,
      "outputs": []
    },
    {
      "cell_type": "code",
      "metadata": {
        "colab": {
          "base_uri": "https://localhost:8080/",
          "height": 265
        },
        "id": "0TWveaMUHQyv",
        "outputId": "b5b033d1-b646-4219-e2c3-495a3aa280bd"
      },
      "source": [
        "import numpy as np\n",
        "import matplotlib.pyplot as plt\n",
        "x=np.array([1,5])\n",
        "y=np.array([3,7])\n",
        "plt.plot(x,y)\n",
        "plt.show()"
      ],
      "execution_count": null,
      "outputs": [
        {
          "output_type": "display_data",
          "data": {
            "image/png": "[encoded data removed]",
            "text/plain": [
              "<Figure size 432x288 with 1 Axes>"
            ]
          },
          "metadata": {
            "needs_background": "light"
          }
        }
      ]
    },
    {
      "cell_type": "code",
      "metadata": {
        "colab": {
          "base_uri": "https://localhost:8080/",
          "height": 265
        },
        "id": "lxXZdxMOI9TO",
        "outputId": "857244e7-58ae-45b0-c030-060f3180fd2d"
      },
      "source": [
        "import numpy as np\n",
        "import matplotlib.pyplot as plt\n",
        "x=np.array([1,5])\n",
        "y=np.array([3,6])\n",
        "plt.plot(x,y,'o')\n",
        "plt.show()\n"
      ],
      "execution_count": null,
      "outputs": [
        {
          "output_type": "display_data",
          "data": {
            "image/png": "[encoded data removed]",
            "text/plain": [
              "<Figure size 432x288 with 1 Axes>"
            ]
          },
          "metadata": {
            "needs_background": "light"
          }
        }
      ]
    },
    {
      "cell_type": "code",
      "metadata": {
        "colab": {
          "base_uri": "https://localhost:8080/",
          "height": 279
        },
        "id": "12I81wnTJ0Bu",
        "outputId": "4cf7ab31-747d-4410-f6ab-0475a90b153b"
      },
      "source": [
        "import numpy as np\n",
        "import matplotlib.pyplot as plt\n",
        "x=np.arange(1,10)\n",
        "y=2*x\n",
        "plt.xlabel(\"x axis\")\n",
        "plt.ylabel(\"y axis\")\n",
        "plt.plot(x,y,'o')\n",
        "plt.show()"
      ],
      "execution_count": null,
      "outputs": [
        {
          "output_type": "display_data",
          "data": {
            "image/png": "[encoded data removed]",
            "text/plain": [
              "<Figure size 432x288 with 1 Axes>"
            ]
          },
          "metadata": {
            "needs_background": "light"
          }
        }
      ]
    },
    {
      "cell_type": "code",
      "metadata": {
        "colab": {
          "base_uri": "https://localhost:8080/",
          "height": 279
        },
        "id": "zXYLytCEX5q2",
        "outputId": "2624f6fd-0eb6-4214-b635-c917c6e0cd20"
      },
      "source": [
        "import numpy as np\n",
        "import matplotlib.pyplot as plt\n",
        "x=np.arange(1,10)\n",
        "y=[i**2 for i in x]\n",
        "plt.xlabel(\"x axis\")\n",
        "plt.ylabel(\"y axis\")\n",
        "plt.plot(x,y)\n",
        "plt.show()"
      ],
      "execution_count": null,
      "outputs": [
        {
          "output_type": "display_data",
          "data": {
            "image/png": "[encoded data removed]",
            "text/plain": [
              "<Figure size 432x288 with 1 Axes>"
            ]
          },
          "metadata": {
            "needs_background": "light"
          }
        }
      ]
    },
    {
      "cell_type": "code",
      "metadata": {
        "colab": {
          "base_uri": "https://localhost:8080/",
          "height": 265
        },
        "id": "lAnaY6m3NoZl",
        "outputId": "afbeb176-242e-4aae-9864-9b426bc2d802"
      },
      "source": [
        "import numpy as np\n",
        "import matplotlib.pyplot as plt\n",
        "x=[2,-4,-6]\n",
        "y=[3,5,7]\n",
        "plt.plot(x,y)\n",
        "plt.show()\n",
        "\n"
      ],
      "execution_count": null,
      "outputs": [
        {
          "output_type": "display_data",
          "data": {
            "image/png": "[encoded data removed]",
            "text/plain": [
              "<Figure size 432x288 with 1 Axes>"
            ]
          },
          "metadata": {
            "needs_background": "light"
          }
        }
      ]
    },
    {
      "cell_type": "code",
      "metadata": {
        "colab": {
          "base_uri": "https://localhost:8080/",
          "height": 265
        },
        "id": "_fHS4B-VPxvd",
        "outputId": "4d977580-9ba8-419c-8ce5-6f2d4cd79757"
      },
      "source": [
        "import numpy as np\n",
        "import matplotlib.pyplot as plt\n",
        "x=np.array([2,4,6,8,10,12])\n",
        "y=np.array([3,5,7,9,6,14])\n",
        "plt.scatter(x,y)\n",
        "plt.show()"
      ],
      "execution_count": null,
      "outputs": [
        {
          "output_type": "display_data",
          "data": {
            "image/png": "[encoded data removed]",
            "text/plain": [
              "<Figure size 432x288 with 1 Axes>"
            ]
          },
          "metadata": {
            "needs_background": "light"
          }
        }
      ]
    },
    {
      "cell_type": "code",
      "metadata": {
        "colab": {
          "base_uri": "https://localhost:8080/",
          "height": 265
        },
        "id": "qmck40oxRkvO",
        "outputId": "73b5d725-8952-4232-b08d-0c030ef4b33b"
      },
      "source": [
        "import numpy as np\n",
        "import matplotlib.pyplot as plt\n",
        "x=np.array([2,4,6,8,10,12])\n",
        "y=np.array([3,5,7,9,6,14])\n",
        "plt.plot(x,y,marker='o')\n",
        "plt.show()"
      ],
      "execution_count": null,
      "outputs": [
        {
          "output_type": "display_data",
          "data": {
            "image/png": "[encoded data removed]",
            "text/plain": [
              "<Figure size 432x288 with 1 Axes>"
            ]
          },
          "metadata": {
            "needs_background": "light"
          }
        }
      ]
    },
    {
      "cell_type": "code",
      "metadata": {
        "colab": {
          "base_uri": "https://localhost:8080/",
          "height": 265
        },
        "id": "gejuHyIZQaGG",
        "outputId": "0657b27a-177a-4491-ba14-1b0c5a999a84"
      },
      "source": [
        "import numpy as np\n",
        "import matplotlib.pyplot as plt\n",
        "x=np.array([2,4,6,8,10,12])\n",
        "y=np.array([3,5,7,9,6,14])\n",
        "plt.scatter(x,y)\n",
        "x=np.array([6,3,3,7,8,2])\n",
        "y=np.array([3,5,7,9,6,14])\n",
        "plt.scatter(x,y)\n",
        "plt.show()"
      ],
      "execution_count": null,
      "outputs": [
        {
          "output_type": "display_data",
          "data": {
            "image/png": "[encoded data removed]",
            "text/plain": [
              "<Figure size 432x288 with 1 Axes>"
            ]
          },
          "metadata": {
            "needs_background": "light"
          }
        }
      ]
    },
    {
      "cell_type": "code",
      "metadata": {
        "colab": {
          "base_uri": "https://localhost:8080/",
          "height": 265
        },
        "id": "wdWoYX0iQ68O",
        "outputId": "c80a23e1-d38b-45fe-a3bd-6b8af9127c34"
      },
      "source": [
        "import numpy as np\n",
        "import matplotlib.pyplot as plt\n",
        "x1=np.array([2,4,6,8,10,12])\n",
        "y1=np.array([3,5,7,9,6,14])\n",
        "x2=np.array([6,3,3,7,8,2])\n",
        "y2=np.array([3,5,7,9,6,14])\n",
        "plt.plot(x1,y1,x2,y2)\n",
        "plt.show()"
      ],
      "execution_count": null,
      "outputs": [
        {
          "output_type": "display_data",
          "data": {
            "image/png": "[encoded data removed]",
            "text/plain": [
              "<Figure size 432x288 with 1 Axes>"
            ]
          },
          "metadata": {
            "needs_background": "light"
          }
        }
      ]
    },
    {
      "cell_type": "code",
      "metadata": {
        "colab": {
          "base_uri": "https://localhost:8080/",
          "height": 265
        },
        "id": "nWBO7MKzRuL9",
        "outputId": "0d912b1a-d67a-41b6-e8ed-38dcaaeaaf0a"
      },
      "source": [
        "import numpy as np\n",
        "import matplotlib.pyplot as plt\n",
        "x=np.array([2,4,6,8,10,12])\n",
        "y=np.array([3,5,7,9,6,14])\n",
        "plt.plot(x,y,linewidth='12')\n",
        "plt.show()"
      ],
      "execution_count": null,
      "outputs": [
        {
          "output_type": "display_data",
          "data": {
            "image/png": "[encoded data removed]",
            "text/plain": [
              "<Figure size 432x288 with 1 Axes>"
            ]
          },
          "metadata": {
            "needs_background": "light"
          }
        }
      ]
    },
    {
      "cell_type": "code",
      "metadata": {
        "colab": {
          "base_uri": "https://localhost:8080/",
          "height": 279
        },
        "id": "7-H3Hg4LSKVH",
        "outputId": "126de8fb-1a05-4239-bcf6-0834a4007a80"
      },
      "source": [
        "import numpy as np\n",
        "import matplotlib.pyplot as plt\n",
        "x=np.array([2,4,6,8,10,12])\n",
        "y=np.array([3,5,7,9,6,14])\n",
        "plt.xlabel(\"x axis\")\n",
        "plt.ylabel(\"y axis\")\n",
        "plt.plot(x,y,'c')\n",
        "plt.grid()\n",
        "plt.show()"
      ],
      "execution_count": null,
      "outputs": [
        {
          "output_type": "display_data",
          "data": {
            "image/png": "[encoded data removed]",
            "text/plain": [
              "<Figure size 432x288 with 1 Axes>"
            ]
          },
          "metadata": {
            "needs_background": "light"
          }
        }
      ]
    },
    {
      "cell_type": "code",
      "metadata": {
        "colab": {
          "base_uri": "https://localhost:8080/",
          "height": 284
        },
        "id": "XCCw9NHxStXv",
        "outputId": "f817e8b2-7449-47f3-d725-3b3f30d62933"
      },
      "source": [
        "import numpy as np\n",
        "import matplotlib.pyplot as plt\n",
        "x=np.array([2,4,6,8,10,12])\n",
        "y=np.array([3,5,7,9,6,14])\n",
        "plt.subplot(1,2,1)\n",
        "plt.plot(x,y,'c')\n",
        "x2=np.array([6,3,3,7,8,2])\n",
        "y2=np.array([3,5,7,9,6,14])\n",
        "plt.subplot(1,2,2)\n",
        "plt.plot(x,y,'g')\n",
        "\n"
      ],
      "execution_count": null,
      "outputs": [
        {
          "output_type": "execute_result",
          "data": {
            "text/plain": [
              "[<matplotlib.lines.Line2D at 0x7fdbd39dd4d0>]"
            ]
          },
          "metadata": {},
          "execution_count": 93
        },
        {
          "output_type": "display_data",
          "data": {
            "image/png": "[encoded data removed]",
            "text/plain": [
              "<Figure size 432x288 with 2 Axes>"
            ]
          },
          "metadata": {
            "needs_background": "light"
          }
        }
      ]
    },
    {
      "cell_type": "code",
      "metadata": {
        "colab": {
          "base_uri": "https://localhost:8080/",
          "height": 284
        },
        "id": "gZkK-HhMTtxS",
        "outputId": "6af947ea-ac28-47e8-bedb-5a20108b21b5"
      },
      "source": [
        "import numpy as np\n",
        "import matplotlib.pyplot as plt\n",
        "x=np.array([\"anu\",\"sanu\",\"manu\"])\n",
        "y=np.array([243,523,595])\n",
        "plt.bar(x,y,color=\"cyan\")"
      ],
      "execution_count": null,
      "outputs": [
        {
          "output_type": "execute_result",
          "data": {
            "text/plain": [
              "<BarContainer object of 3 artists>"
            ]
          },
          "metadata": {},
          "execution_count": 96
        },
        {
          "output_type": "display_data",
          "data": {
            "image/png": "[encoded data removed]",
            "text/plain": [
              "<Figure size 432x288 with 1 Axes>"
            ]
          },
          "metadata": {
            "needs_background": "light"
          }
        }
      ]
    },
    {
      "cell_type": "code",
      "metadata": {
        "colab": {
          "base_uri": "https://localhost:8080/",
          "height": 284
        },
        "id": "j07ZqshiUbNG",
        "outputId": "311ba232-af8b-4c10-d532-f813745471af"
      },
      "source": [
        "import numpy as np\n",
        "import matplotlib.pyplot as plt\n",
        "x=np.array([1,10,32,22,44])\n",
        "y=np.array([43,23,12,55,10])\n",
        "plt.bar(x,y)"
      ],
      "execution_count": null,
      "outputs": [
        {
          "output_type": "execute_result",
          "data": {
            "text/plain": [
              "<BarContainer object of 5 artists>"
            ]
          },
          "metadata": {},
          "execution_count": 104
        },
        {
          "output_type": "display_data",
          "data": {
            "image/png": "[encoded data removed]",
            "text/plain": [
              "<Figure size 432x288 with 1 Axes>"
            ]
          },
          "metadata": {
            "needs_background": "light"
          }
        }
      ]
    },
    {
      "cell_type": "code",
      "metadata": {
        "colab": {
          "base_uri": "https://localhost:8080/",
          "height": 265
        },
        "id": "zb8otobiVVyO",
        "outputId": "31c54cae-87b0-4788-f16d-33d8b8be1ece"
      },
      "source": [
        "import numpy as np\n",
        "import matplotlib.pyplot as plt\n",
        "x=np.random.normal(170,10,250)\n",
        "plt.hist(x)\n",
        "plt.show()"
      ],
      "execution_count": null,
      "outputs": [
        {
          "output_type": "display_data",
          "data": {
            "image/png": "[encoded data removed]",
            "text/plain": [
              "<Figure size 432x288 with 1 Axes>"
            ]
          },
          "metadata": {
            "needs_background": "light"
          }
        }
      ]
    },
    {
      "cell_type": "code",
      "metadata": {
        "colab": {
          "base_uri": "https://localhost:8080/",
          "height": 248
        },
        "id": "-B_VELJnWLmP",
        "outputId": "f780abfa-d6b3-4cba-c257-2fd4a862767b"
      },
      "source": [
        "import numpy as np\n",
        "import matplotlib.pyplot as plt\n",
        "x=np.array([1,10,32,22,44])\n",
        "mlabel=[\"apple\",\"orange\",\"grapes\",\"kiwi\",\"others\"]\n",
        "plt.pie(x,labels=mlabel)\n",
        "plt.show()"
      ],
      "execution_count": null,
      "outputs": [
        {
          "output_type": "display_data",
          "data": {
            "image/png": "[encoded data removed]",
            "text/plain": [
              "<Figure size 432x288 with 1 Axes>"
            ]
          },
          "metadata": {}
        }
      ]
    },
    {
      "cell_type": "code",
      "metadata": {
        "id": "JW9lOlbhXtvo"
      },
      "source": [
        ""
      ],
      "execution_count": null,
      "outputs": []
    }
  ]
}