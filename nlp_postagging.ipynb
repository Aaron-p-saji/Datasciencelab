{
  "nbformat": 4,
  "nbformat_minor": 0,
  "metadata": {
    "colab": {
      "name": "nlp_postagging.ipynb",
      "provenance": [],
      "include_colab_link": true
    },
    "kernelspec": {
      "name": "python3",
      "display_name": "Python 3"
    },
    "language_info": {
      "name": "python"
    }
  },
  "cells": [
    {
      "cell_type": "markdown",
      "metadata": {
        "id": "view-in-github",
        "colab_type": "text"
      },
      "source": [
        "<a href=\"https://colab.research.google.com/github/AnjanaBabu/Datasciencelab/blob/main/nlp_postagging.ipynb\" target=\"_parent\"><img src=\"https://colab.research.google.com/assets/colab-badge.svg\" alt=\"Open In Colab\"/></a>"
      ]
    },
    {
      "cell_type": "code",
      "execution_count": 2,
      "metadata": {
        "id": "FD974lE7JONT",
        "colab": {
          "base_uri": "https://localhost:8080/"
        },
        "outputId": "72352e43-0813-46cb-a395-39cdc4d0b308"
      },
      "outputs": [
        {
          "output_type": "stream",
          "name": "stdout",
          "text": [
            "[nltk_data] Downloading package stopwords to /root/nltk_data...\n",
            "[nltk_data]   Package stopwords is already up-to-date!\n",
            "[nltk_data] Downloading package punkt to /root/nltk_data...\n",
            "[nltk_data]   Package punkt is already up-to-date!\n",
            "[nltk_data] Downloading package averaged_perceptron_tagger to\n",
            "[nltk_data]     /root/nltk_data...\n",
            "[nltk_data]   Package averaged_perceptron_tagger is already up-to-\n",
            "[nltk_data]       date!\n"
          ]
        },
        {
          "output_type": "execute_result",
          "data": {
            "text/plain": [
              "True"
            ]
          },
          "metadata": {},
          "execution_count": 2
        }
      ],
      "source": [
        "import nltk\n",
        "from nltk.corpus import stopwords\n",
        "from nltk.tokenize import word_tokenize, sent_tokenize\n",
        "nltk.download('stopwords')\n",
        "nltk.download('punkt')\n",
        "nltk.download('averaged_perceptron_tagger')"
      ]
    },
    {
      "cell_type": "code",
      "source": [
        "text = word_tokenize(\"Hello Student program is Tagging with NLTK and Python\")\n",
        "nltk.pos_tag(text)"
      ],
      "metadata": {
        "id": "7dTG2qonMLf8",
        "colab": {
          "base_uri": "https://localhost:8080/"
        },
        "outputId": "6fc02549-2fbd-4d02-f940-3033d1b604b4"
      },
      "execution_count": 3,
      "outputs": [
        {
          "output_type": "execute_result",
          "data": {
            "text/plain": [
              "[('Hello', 'NNP'),\n",
              " ('Student', 'NNP'),\n",
              " ('program', 'NN'),\n",
              " ('is', 'VBZ'),\n",
              " ('Tagging', 'VBG'),\n",
              " ('with', 'IN'),\n",
              " ('NLTK', 'NNP'),\n",
              " ('and', 'CC'),\n",
              " ('Python', 'NNP')]"
            ]
          },
          "metadata": {},
          "execution_count": 3
        }
      ]
    },
    {
      "cell_type": "code",
      "source": [
        "stop_words = set(stopwords.words('english'))\n",
        "print(stop_words)"
      ],
      "metadata": {
        "id": "_FSf9omOMmtQ",
        "colab": {
          "base_uri": "https://localhost:8080/"
        },
        "outputId": "18ca1dff-9a9f-4a9c-826d-32f4a5faec25"
      },
      "execution_count": 4,
      "outputs": [
        {
          "output_type": "stream",
          "name": "stdout",
          "text": [
            "{'am', 'few', 'whom', 'not', 'ourselves', 'been', 'and', 'further', 'mightn', 'as', 'so', \"don't\", 'under', 'isn', 'have', \"you'll\", 'does', 'why', 'too', \"mightn't\", 'out', 'any', 'they', 'couldn', 'our', 'be', 'a', 'himself', 'will', 'doing', 'can', 'ain', 'own', 'up', 'both', 'mustn', \"needn't\", 'some', 'how', \"she's\", 'through', 'or', 'theirs', \"mustn't\", 'herself', 'has', 'against', \"you'd\", 'very', 'these', \"wasn't\", 'shan', 'won', 'most', 've', 'll', \"should've\", \"weren't\", 'doesn', 'haven', 'again', 'above', 'while', 'only', 'during', 'but', 'no', 'here', 'in', 'myself', 'had', 'her', 'this', 'between', 'his', 'an', 'more', 't', 'which', 'him', 'who', 'do', 'by', 'm', 'at', 'before', \"couldn't\", 'd', 'i', 'because', 'below', 'the', 'with', 'just', 'he', 'than', \"hadn't\", 'me', 'my', \"that'll\", 'to', 'wouldn', 'them', 'its', 'having', 're', 'hasn', 'weren', 'what', \"haven't\", 'that', 'should', 'until', 'once', 'if', 'it', 'into', 'yourself', 'don', 'ma', 'nor', 'o', \"aren't\", 'on', 'she', 'from', 'was', \"you've\", 'of', 'wasn', 'over', 'their', 'all', 'about', 'then', \"shouldn't\", 'hers', 'now', 'you', 'your', \"isn't\", 'for', 'other', 'those', 'y', \"doesn't\", \"won't\", \"wouldn't\", 'each', 'same', 'ours', 'yourselves', 'is', 'aren', 'yours', 'themselves', 'needn', 'being', 'there', 'shouldn', 'are', 'after', 'we', 'when', 'didn', 'where', \"shan't\", 'hadn', 's', 'such', \"it's\", 'off', \"didn't\", 'itself', \"hasn't\", 'down', 'were', 'did', \"you're\"}\n"
          ]
        }
      ]
    },
    {
      "cell_type": "code",
      "source": [
        "text = \"Python has a simple syntax similar to the English language and it's syntax that allows developers to write programs with fewer lines\"\n",
        "tokenized = sent_tokenize(text)\n",
        "print(tokenized)\n",
        "for i in tokenized:\n",
        "    wordsList = nltk.word_tokenize(i)\n",
        "    wordsList = [w for w in wordsList if not w in stop_words] \n",
        "    tagged = nltk.pos_tag(wordsList)\n",
        "    print(tagged)"
      ],
      "metadata": {
        "id": "T3Vn-1xeMzSV",
        "colab": {
          "base_uri": "https://localhost:8080/"
        },
        "outputId": "dfcdb5ad-0e6a-4c9a-f18c-5ab4a1046535"
      },
      "execution_count": 6,
      "outputs": [
        {
          "output_type": "stream",
          "name": "stdout",
          "text": [
            "[\"Python has a simple syntax similar to the English language and it's syntax that allows developers to write programs with fewer lines\"]\n",
            "[('Python', 'NNP'), ('simple', 'JJ'), ('syntax', 'NN'), ('similar', 'JJ'), ('English', 'NNP'), ('language', 'NN'), (\"'s\", 'POS'), ('syntax', 'NN'), ('allows', 'VBZ'), ('developers', 'NNS'), ('write', 'JJ'), ('programs', 'NNS'), ('fewer', 'JJR'), ('lines', 'NNS')]\n"
          ]
        }
      ]
    }
  ]
}