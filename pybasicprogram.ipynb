{
  "nbformat": 4,
  "nbformat_minor": 0,
  "metadata": {
    "colab": {
      "name": "pyprogram.ipynb",
      "provenance": [],
      "collapsed_sections": [],
      "authorship_tag": "ABX9TyPD0Th94HaPO5vRzVTrSUaP",
      "include_colab_link": true
    },
    "kernelspec": {
      "display_name": "Python 3",
      "name": "python3"
    },
    "language_info": {
      "name": "python"
    }
  },
  "cells": [
    {
      "cell_type": "markdown",
      "metadata": {
        "id": "view-in-github",
        "colab_type": "text"
      },
      "source": [
        "<a href=\"https://colab.research.google.com/github/AnjanaBabu/Datasciencelab/blob/main/pyprogram.ipynb\" target=\"_parent\"><img src=\"https://colab.research.google.com/assets/colab-badge.svg\" alt=\"Open In Colab\"/></a>"
      ]
    },
    {
      "cell_type": "code",
      "metadata": {
        "colab": {
          "base_uri": "https://localhost:8080/"
        },
        "id": "16DjoGdv-stm",
        "outputId": "38f41d6c-4069-40a1-80e4-fc3368e11e9f"
      },
      "source": [
        "print ('hello')\n"
      ],
      "execution_count": null,
      "outputs": [
        {
          "name": "stdout",
          "output_type": "stream",
          "text": [
            "hello\n"
          ]
        }
      ]
    },
    {
      "cell_type": "code",
      "metadata": {
        "colab": {
          "base_uri": "https://localhost:8080/"
        },
        "id": "z1JRDLk3-4fe",
        "outputId": "87cfd94e-5508-47be-b89a-96c8c86efe8c"
      },
      "source": [
        "a=1\n",
        "b=3\n",
        "c=a+b\n",
        "print (c)"
      ],
      "execution_count": null,
      "outputs": [
        {
          "name": "stdout",
          "output_type": "stream",
          "text": [
            "4\n"
          ]
        }
      ]
    },
    {
      "cell_type": "code",
      "metadata": {
        "colab": {
          "base_uri": "https://localhost:8080/"
        },
        "id": "pYs19BON_bfG",
        "outputId": "308dd620-bcd1-4dec-a75f-3618496d787c"
      },
      "source": [
        "num=1234\n",
        "rev=0\n",
        "while num>0:\n",
        "  rem=num % 10\n",
        "  rev = rev * 10 + rem\n",
        "  num=num//10\n",
        "print (rev)\n"
      ],
      "execution_count": null,
      "outputs": [
        {
          "name": "stdout",
          "output_type": "stream",
          "text": [
            "4321\n"
          ]
        }
      ]
    },
    {
      "cell_type": "code",
      "metadata": {
        "colab": {
          "base_uri": "https://localhost:8080/"
        },
        "id": "NJiGeZdwEINv",
        "outputId": "b259e461-6375-484f-fc81-a06d418a0e2d"
      },
      "source": [
        "num=int(input(\"enter a number\"))\n",
        "rev=0\n",
        "while(num>0):\n",
        "  rem=num%10\n",
        "  rev=rev*10+rem\n",
        "  num=num//10 \n",
        "print (rev)\n"
      ],
      "execution_count": null,
      "outputs": [
        {
          "name": "stdout",
          "output_type": "stream",
          "text": [
            "enter a number123\n",
            "321\n"
          ]
        }
      ]
    },
    {
      "cell_type": "code",
      "metadata": {
        "colab": {
          "base_uri": "https://localhost:8080/"
        },
        "id": "1k1UfCoRHf38",
        "outputId": "ca9c6e9d-0652-42c9-a81f-f806c19a3b84"
      },
      "source": [
        " num=int(input(\"enter a number\"))\n",
        " if num>=0 :\n",
        "  print (\"positive\")\n",
        " else:\n",
        "  print (\"negative\")"
      ],
      "execution_count": null,
      "outputs": [
        {
          "name": "stdout",
          "output_type": "stream",
          "text": [
            "enter a number12\n",
            "positive\n"
          ]
        }
      ]
    },
    {
      "cell_type": "code",
      "metadata": {
        "colab": {
          "base_uri": "https://localhost:8080/"
        },
        "id": "FmkCDkxMJD98",
        "outputId": "31cf50d7-8938-4d28-f446-08ad23d77781"
      },
      "source": [
        "num=11211\n",
        "tem=num\n",
        "rev=0\n",
        "while(num>0):\n",
        "  rem=num%10\n",
        "  rev=rev*10+rem\n",
        "  num=num//10 \n",
        "if (tem==rev):\n",
        " print (\"palindrome\")\n",
        "else:\n",
        " print (\"not palindrome\")"
      ],
      "execution_count": null,
      "outputs": [
        {
          "name": "stdout",
          "output_type": "stream",
          "text": [
            "palindrome\n"
          ]
        }
      ]
    },
    {
      "cell_type": "code",
      "metadata": {
        "colab": {
          "base_uri": "https://localhost:8080/"
        },
        "id": "6zB3wcZHM6rU",
        "outputId": "e2d94be9-1695-488e-b641-0251c3970c60"
      },
      "source": [
        "num=int(input(\"enter a number\"))\n",
        "tem=num\n",
        "rev=0\n",
        "while(num>0):\n",
        "  rem=num%10\n",
        "  rev=rev*10+rem\n",
        "  num=num//10 \n",
        "if (tem==rev):\n",
        " print (\"palindrome\")\n",
        "else:\n",
        " print (\"not palindrome\")"
      ],
      "execution_count": null,
      "outputs": [
        {
          "name": "stdout",
          "output_type": "stream",
          "text": [
            "enter a number123\n",
            "not palindrome\n"
          ]
        }
      ]
    },
    {
      "cell_type": "code",
      "metadata": {
        "colab": {
          "base_uri": "https://localhost:8080/"
        },
        "id": "utQ4ttTgNrxb",
        "outputId": "b39955af-28b8-4192-8a9c-7dbd2289fc1e"
      },
      "source": [
        "num=123\n",
        "count=0\n",
        "while num>0:\n",
        "  count=count+1\n",
        "  num=num//10\n",
        "print (count)"
      ],
      "execution_count": null,
      "outputs": [
        {
          "name": "stdout",
          "output_type": "stream",
          "text": [
            "3\n"
          ]
        }
      ]
    },
    {
      "cell_type": "code",
      "metadata": {
        "colab": {
          "base_uri": "https://localhost:8080/"
        },
        "id": "L4QxBS06ONN-",
        "outputId": "aaa485f8-eb10-4d8f-fc1d-1a1e743da9d2"
      },
      "source": [
        "num=int(input(\"enter a number:\"))\n",
        "count=0\n",
        "while(num>0):\n",
        "  count=count+1\n",
        "  num=num//10\n",
        "print (\"count of num is:\",count)"
      ],
      "execution_count": null,
      "outputs": [
        {
          "name": "stdout",
          "output_type": "stream",
          "text": [
            "enter a number:12344\n",
            "count of num is: 5\n"
          ]
        }
      ]
    },
    {
      "cell_type": "code",
      "metadata": {
        "colab": {
          "base_uri": "https://localhost:8080/"
        },
        "id": "iPfQ7YJCO7sM",
        "outputId": "80116a6c-4a21-40e7-ed6f-884d936c1b46"
      },
      "source": [
        "r=float(input(\"enter the radious:\"))\n",
        "area=3.14*r*r\n",
        "print (\"area is:\",area)\n",
        "perim=2*3.14*r\n",
        "print (\"perimeter is:\",perim)"
      ],
      "execution_count": null,
      "outputs": [
        {
          "name": "stdout",
          "output_type": "stream",
          "text": [
            "enter the radious:4\n",
            "area is: 50.24\n",
            "perimeter is: 25.12\n"
          ]
        }
      ]
    },
    {
      "cell_type": "code",
      "metadata": {
        "colab": {
          "base_uri": "https://localhost:8080/"
        },
        "id": "gzsWEjncQFBj",
        "outputId": "f396c850-372a-4365-c7db-f291e2e0d283"
      },
      "source": [
        "import math\n",
        "r=float(input(\"enter the radious\"))\n",
        "area=math.pi*r*r\n",
        "print (\"area is:\",area)\n",
        "perim=2*math.pi*r\n",
        "print (\"perimeter is:\",perim)\n"
      ],
      "execution_count": null,
      "outputs": [
        {
          "name": "stdout",
          "output_type": "stream",
          "text": [
            "enter the radious2\n",
            "area is: 12.566370614359172\n",
            "perimeter is: 12.566370614359172\n"
          ]
        }
      ]
    },
    {
      "cell_type": "code",
      "metadata": {
        "id": "S705qGV0RM0L"
      },
      "source": [
        ""
      ],
      "execution_count": null,
      "outputs": []
    },
    {
      "cell_type": "code",
      "metadata": {
        "colab": {
          "base_uri": "https://localhost:8080/"
        },
        "id": "D3tYmJrTRQQK",
        "outputId": "e98ea8fe-ebab-439f-ed8b-6cd5b55642c5"
      },
      "source": [
        "a=3\n",
        "b=4\n",
        "c=1\n",
        "if a>b and a>c:\n",
        "  print (a)\n",
        "elif b>a and b>c:\n",
        "  print (b)\n",
        "else:\n",
        "  print (c)"
      ],
      "execution_count": null,
      "outputs": [
        {
          "name": "stdout",
          "output_type": "stream",
          "text": [
            "4\n"
          ]
        }
      ]
    },
    {
      "cell_type": "code",
      "metadata": {
        "colab": {
          "base_uri": "https://localhost:8080/"
        },
        "id": "8hyHmq15SW_T",
        "outputId": "984253ec-277c-4029-ca94-e49d08c8fb47"
      },
      "source": [
        "a=int(input(\"enter num1:\"))\n",
        "b=int(input(\"enter num2:\"))\n",
        "c=int(input(\"enter num3:\"))\n",
        "if a>b and a>c:\n",
        "  print (a)\n",
        "elif b>a and b>c:\n",
        "  print (b)\n",
        "else:\n",
        "  print (c)"
      ],
      "execution_count": null,
      "outputs": [
        {
          "name": "stdout",
          "output_type": "stream",
          "text": [
            "enter num1:2\n",
            "enter num2:3\n",
            "enter num3:4\n",
            "4\n"
          ]
        }
      ]
    },
    {
      "cell_type": "code",
      "metadata": {
        "colab": {
          "base_uri": "https://localhost:8080/"
        },
        "id": "uEHfx49uSq3F",
        "outputId": "3c0af9f0-c870-455a-b55d-a910f53632f7"
      },
      "source": [
        "v=input(\"enter the comma separated nunmbers:\")\n",
        "list=v.split(\",\")\n",
        "tuple=tuple(list)\n",
        "print (\"list is:\",list)\n",
        "print(\"tuple is:\",tuple)"
      ],
      "execution_count": null,
      "outputs": [
        {
          "name": "stdout",
          "output_type": "stream",
          "text": [
            "enter the comma separated nunmbers:1,2,1,3,4\n",
            "list is: ['1', '2', '1', '3', '4']\n",
            "tuple is: ('1', '2', '1', '3', '4')\n"
          ]
        }
      ]
    },
    {
      "cell_type": "code",
      "metadata": {
        "colab": {
          "base_uri": "https://localhost:8080/"
        },
        "id": "c25f1n6qRqDV",
        "outputId": "f68a1b29-278c-4214-807f-c240f2ffb578"
      },
      "source": [
        "list=['1','2','3','4']\n",
        "res=[list[0],list[-1]]\n",
        "print(\"first and last element:\",res)"
      ],
      "execution_count": null,
      "outputs": [
        {
          "name": "stdout",
          "output_type": "stream",
          "text": [
            "first and last element: ['1', '4']\n"
          ]
        }
      ]
    },
    {
      "cell_type": "code",
      "metadata": {
        "colab": {
          "base_uri": "https://localhost:8080/"
        },
        "id": "6ViBZgEuTkpP",
        "outputId": "5bbfda58-e9e3-44b2-d7bb-b1613a477517"
      },
      "source": [
        "dict={\"1\":\"python\",\"2\":\"IoT\"}\n",
        "print (dict)\n",
        "dict[\"year\"]=\"final\"\n",
        "print(dict)\n",
        "dict[\"sem\"]=\"third\"\n",
        "print (dict)"
      ],
      "execution_count": null,
      "outputs": [
        {
          "name": "stdout",
          "output_type": "stream",
          "text": [
            "{'1': 'python', '2': 'IoT'}\n",
            "{'1': 'python', '2': 'IoT', 'year': 'final'}\n",
            "{'1': 'python', '2': 'IoT', 'year': 'final', 'sem': 'third'}\n"
          ]
        }
      ]
    },
    {
      "cell_type": "code",
      "metadata": {
        "colab": {
          "base_uri": "https://localhost:8080/"
        },
        "id": "PTeWPEnNUrs_",
        "outputId": "0f93ab21-e770-41ca-f4be-327c380fa858"
      },
      "source": [
        "def merge(dict1,dict):\n",
        "  return(dict.update(dict1))\n",
        "dict={\"1\":\"python\",\"2\":\"IoT\"}\n",
        "dict1={\"3\":\"ds\",\"4\":\"or\",\"5\":\"daa\"}\n",
        "print (merge(dict1,dict))\n",
        "print (dict)\n"
      ],
      "execution_count": null,
      "outputs": [
        {
          "name": "stdout",
          "output_type": "stream",
          "text": [
            "None\n",
            "{'1': 'python', '2': 'IoT', '3': 'ds', '4': 'or', '5': 'daa'}\n"
          ]
        }
      ]
    },
    {
      "cell_type": "code",
      "metadata": {
        "colab": {
          "base_uri": "https://localhost:8080/"
        },
        "id": "KkyjalDZYHxd",
        "outputId": "838f4132-71be-4701-d737-4caa25ac870c"
      },
      "source": [
        "syear=int(input(\"enter the start year:\"))\n",
        "eyear=int(input(\"enter the ending year:\"))\n",
        "for year in range(syear, eyear):\n",
        "  if(year%4==0 and year%100!=0):\n",
        "    print (year)"
      ],
      "execution_count": null,
      "outputs": [
        {
          "name": "stdout",
          "output_type": "stream",
          "text": [
            "enter the start year:1999\n",
            "enter the ending year:2021\n",
            "2004\n",
            "2008\n",
            "2012\n",
            "2016\n",
            "2020\n"
          ]
        }
      ]
    },
    {
      "cell_type": "code",
      "metadata": {
        "colab": {
          "base_uri": "https://localhost:8080/"
        },
        "id": "qVGqlUmHaDfU",
        "outputId": "049d8021-eb4c-4a3b-df9c-c9fbbb9ec2d1"
      },
      "source": [
        "print(\"enter two numbers\")\n",
        "for i in range(2, 8):\n",
        " print (i) "
      ],
      "execution_count": null,
      "outputs": [
        {
          "name": "stdout",
          "output_type": "stream",
          "text": [
            "enter two numbers\n",
            "2\n",
            "3\n",
            "4\n",
            "5\n",
            "6\n",
            "7\n"
          ]
        }
      ]
    },
    {
      "cell_type": "code",
      "metadata": {
        "colab": {
          "base_uri": "https://localhost:8080/"
        },
        "id": "BTdPei7tWmxF",
        "outputId": "1d3a6147-2764-4357-e990-28a2a7906310"
      },
      "source": [
        "n=int(input(\"enter a number:\"))\n",
        "fact=1\n",
        "for x in range(1,n+1):\n",
        "  fact=fact*x\n",
        "  print (fact)"
      ],
      "execution_count": null,
      "outputs": [
        {
          "name": "stdout",
          "output_type": "stream",
          "text": [
            "enter a number:9\n",
            "1\n",
            "2\n",
            "6\n",
            "24\n",
            "120\n",
            "720\n",
            "5040\n",
            "40320\n",
            "362880\n"
          ]
        }
      ]
    },
    {
      "cell_type": "code",
      "metadata": {
        "colab": {
          "base_uri": "https://localhost:8080/"
        },
        "id": "y-fMDqYHcigU",
        "outputId": "ce839300-d76a-4a7a-faa3-c0868b430890"
      },
      "source": [
        "n=int(input(\"enter a limit:\"))\n",
        "f1=0\n",
        "f2=1\n",
        "count=0\n",
        "while(count<n):\n",
        " print (f1)\n",
        " fib=f1+f2\n",
        " f1=f2\n",
        " f2=fib\n",
        " count+=1"
      ],
      "execution_count": null,
      "outputs": [
        {
          "output_type": "stream",
          "name": "stdout",
          "text": [
            "enter a limit:5\n",
            "0\n",
            "1\n",
            "1\n",
            "2\n",
            "3\n"
          ]
        }
      ]
    },
    {
      "cell_type": "code",
      "metadata": {
        "colab": {
          "base_uri": "https://localhost:8080/"
        },
        "id": "hlmk2bvJ4v2Z",
        "outputId": "761c16bd-9c3c-418b-d1b2-6145ed312834"
      },
      "source": [
        "def concat(str1,str2):\n",
        "  return str1+str2\n",
        "str1=\"abc\"\n",
        "str2=\"def\"\n",
        "res=concat(str1,str2)\n",
        "print(res)"
      ],
      "execution_count": null,
      "outputs": [
        {
          "output_type": "stream",
          "name": "stdout",
          "text": [
            "abcdef\n"
          ]
        }
      ]
    },
    {
      "cell_type": "code",
      "metadata": {
        "colab": {
          "base_uri": "https://localhost:8080/"
        },
        "id": "-mCXXRPL6LRs",
        "outputId": "9d3e1292-dbbe-49f2-83ac-63a6342b12c9"
      },
      "source": [
        "def concat(str1,str2):\n",
        "  return str1+str2\n",
        "str1=input(\"enter 1st string:\")\n",
        "str2=input(\"enter 2nd string:\")\n",
        "res=concat(str1,str2)\n",
        "print(\"concat string is:\",res)\n"
      ],
      "execution_count": null,
      "outputs": [
        {
          "output_type": "stream",
          "name": "stdout",
          "text": [
            "enter 1st string:Anjana\n",
            "enter 2nd string:Babu\n",
            "concat string is: AnjanaBabu\n"
          ]
        }
      ]
    },
    {
      "cell_type": "code",
      "metadata": {
        "colab": {
          "base_uri": "https://localhost:8080/"
        },
        "id": "fkPg9P2t-Ry6",
        "outputId": "1cd0bf5d-69f3-4ab5-ea44-a35cb1f85fd2"
      },
      "source": [
        "year=int(input(\"enter the year:\"))\n",
        "if(year%4==0 and year%100!=0):\n",
        "  print (\"leap year\")\n",
        "else:\n",
        "  print(\"not leap year\")\n"
      ],
      "execution_count": null,
      "outputs": [
        {
          "output_type": "stream",
          "name": "stdout",
          "text": [
            "enter the year:2016\n",
            "leap year\n"
          ]
        }
      ]
    },
    {
      "cell_type": "code",
      "metadata": {
        "colab": {
          "base_uri": "https://localhost:8080/"
        },
        "id": "yVRwdUbvAgPc",
        "outputId": "ded1de1b-4051-4581-dfa4-88de46fbd7c2"
      },
      "source": [
        "def fibo(n):\n",
        "   if(n<=1):\n",
        "    return n\n",
        "   else: \n",
        "    return (fibo(n-1) + fibo(n-2))\n",
        "n=int(input(\"enter a sequence:\"))\n",
        "print(\"fibonacci series:\")\n",
        "for i in range(n):\n",
        "  print (fibo(i))\n"
      ],
      "execution_count": null,
      "outputs": [
        {
          "output_type": "stream",
          "name": "stdout",
          "text": [
            "enter a sequence:5\n",
            "fibonacci series:\n",
            "0\n",
            "1\n",
            "1\n",
            "2\n",
            "3\n"
          ]
        }
      ]
    },
    {
      "cell_type": "code",
      "metadata": {
        "colab": {
          "base_uri": "https://localhost:8080/"
        },
        "id": "RjMDw69RF9p9",
        "outputId": "ec186dd4-a707-470f-d944-14cc9422f695"
      },
      "source": [
        "import datetime\n",
        "datetime=datetime.datetime.now()\n",
        "print(\"current date and time:\",datetime)\n",
        "\n"
      ],
      "execution_count": null,
      "outputs": [
        {
          "output_type": "stream",
          "name": "stdout",
          "text": [
            "current date and time: 2021-11-22 05:30:20.096118\n"
          ]
        }
      ]
    },
    {
      "cell_type": "code",
      "metadata": {
        "id": "KkbHS0nmKz0e",
        "colab": {
          "base_uri": "https://localhost:8080/"
        },
        "outputId": "68a72782-1adc-427b-c6c0-33a8d39609de"
      },
      "source": [
        "for i in range(5):\n",
        "    if(i==6):\n",
        "       continue\n",
        "    print(i)"
      ],
      "execution_count": null,
      "outputs": [
        {
          "output_type": "stream",
          "name": "stdout",
          "text": [
            "0\n",
            "1\n",
            "2\n",
            "3\n",
            "4\n"
          ]
        }
      ]
    },
    {
      "cell_type": "code",
      "metadata": {
        "colab": {
          "base_uri": "https://localhost:8080/"
        },
        "id": "NaACiaoLbd01",
        "outputId": "d10ce0b8-05d9-4b0e-80aa-8a561d0bec48"
      },
      "source": [
        "for i in range(5):\n",
        "    if(i==4):\n",
        "       break\n",
        "    print(i)"
      ],
      "execution_count": null,
      "outputs": [
        {
          "output_type": "stream",
          "name": "stdout",
          "text": [
            "0\n",
            "1\n",
            "2\n",
            "3\n"
          ]
        }
      ]
    },
    {
      "cell_type": "code",
      "metadata": {
        "colab": {
          "base_uri": "https://localhost:8080/"
        },
        "id": "yoh_ByZ8bn_I",
        "outputId": "d44c314b-d4d3-4ad8-ec81-46b7f295012d"
      },
      "source": [
        "for i in range(5):\n",
        "    if(i==5):\n",
        "       pass\n",
        "    print(i)"
      ],
      "execution_count": null,
      "outputs": [
        {
          "output_type": "stream",
          "name": "stdout",
          "text": [
            "0\n",
            "1\n",
            "2\n",
            "3\n",
            "4\n"
          ]
        }
      ]
    },
    {
      "cell_type": "code",
      "metadata": {
        "id": "zZ00anbjK52M",
        "colab": {
          "base_uri": "https://localhost:8080/"
        },
        "outputId": "0d11b41f-fce3-416d-a84a-444b76ce3c29"
      },
      "source": [
        "list=[\"anju\",\"anjana\"]\n",
        "lngwrd=max(list,key=len)\n",
        "print(lngwrd)\n",
        "print(len(lngwrd))"
      ],
      "execution_count": null,
      "outputs": [
        {
          "output_type": "stream",
          "name": "stdout",
          "text": [
            "anjana\n",
            "6\n"
          ]
        }
      ]
    },
    {
      "cell_type": "code",
      "metadata": {
        "id": "CkCkps5LcAA8",
        "colab": {
          "base_uri": "https://localhost:8080/"
        },
        "outputId": "a06979d4-5a0a-4528-9b92-93735ebff829"
      },
      "source": [
        "class student:\n",
        "  rollno=input(\"rollno:\")\n",
        "  name=input(\"name:\")\n",
        "  totalmark=int(input(\"total mark:\"))\n",
        "print(\"rollno:\",student.rollno)\n",
        "print(\"name:\",student.name)\n",
        "print(\"total mark:\",student.totalmark)\n",
        "\n",
        "     \n",
        "\n"
      ],
      "execution_count": null,
      "outputs": [
        {
          "output_type": "stream",
          "name": "stdout",
          "text": [
            "rollno:2\n",
            "name:anu\n",
            "total mark:234\n",
            "rollno: 2\n",
            "name: anu\n",
            "total mark: 234\n"
          ]
        }
      ]
    },
    {
      "cell_type": "code",
      "metadata": {
        "colab": {
          "base_uri": "https://localhost:8080/"
        },
        "id": "wQdxlE0eIXOx",
        "outputId": "7d9d478b-1078-4b99-bdff-6a6535ce00bf"
      },
      "source": [
        "class rectangle:\n",
        "  length=10\n",
        "  breadth=20\n",
        "  def rectangle_area(l,b):\n",
        "    return l*b\n",
        "  def rectangle_perim(l,b):\n",
        "    return (2*(l+b))\n",
        "print(\"length:\",rectangle.length)\n",
        "print(\"breadth:\",rectangle.breadth)\n",
        "print(\"area of a rectangle:\",rectangle.rectangle_area(rectangle.length,rectangle.breadth))\n",
        "print(\"perimeter of a rectangle:\",rectangle.rectangle_perim(rectangle.length,rectangle.breadth))\n"
      ],
      "execution_count": null,
      "outputs": [
        {
          "output_type": "stream",
          "name": "stdout",
          "text": [
            "length: 10\n",
            "breadth: 20\n",
            "area of a rectangle: 200\n",
            "perimeter of a rectangle: 60\n"
          ]
        }
      ]
    },
    {
      "cell_type": "code",
      "metadata": {
        "colab": {
          "base_uri": "https://localhost:8080/"
        },
        "id": "f74Q-ujeGIDJ",
        "outputId": "aee4c47f-f402-444f-ab2c-2f07d798c12a"
      },
      "source": [
        "dict1={}\n",
        "dict1[3]=\"ant\"\n",
        "dict1[2]=\"cat\"\n",
        "dict1[5]=\"rat\"\n",
        "dict1[1]=\"dog\"\n",
        "dict1[4]=\"rabbit\"\n",
        "for i in sorted(dict1):\n",
        " print(i,dict1[i])\n",
        "\n",
        "\n",
        "\n"
      ],
      "execution_count": null,
      "outputs": [
        {
          "output_type": "stream",
          "name": "stdout",
          "text": [
            "1 dog\n",
            "2 cat\n",
            "3 ant\n",
            "4 rabbit\n",
            "5 rat\n"
          ]
        }
      ]
    },
    {
      "cell_type": "code",
      "metadata": {
        "colab": {
          "base_uri": "https://localhost:8080/"
        },
        "id": "ZUoMgUZ3PB0q",
        "outputId": "70262f84-a0a5-4ba6-9b99-b4bcd99968cc"
      },
      "source": [
        "dict1={\"1\":\"cat\",\"5\":\"dog\",\"3\":\"rat\",\"2\":\"fox\",\"4\":\"ant\"}\n",
        "for i in sorted(dict1):\n",
        " print(i,dict1[i])\n"
      ],
      "execution_count": null,
      "outputs": [
        {
          "output_type": "stream",
          "name": "stdout",
          "text": [
            "1 cat\n",
            "2 fox\n",
            "3 rat\n",
            "4 ant\n",
            "5 dog\n"
          ]
        }
      ]
    },
    {
      "cell_type": "code",
      "metadata": {
        "colab": {
          "base_uri": "https://localhost:8080/"
        },
        "id": "3P6CgDd9L0r_",
        "outputId": "2753c69f-d533-4227-a119-f85b1a30980c"
      },
      "source": [
        "a=int(input(\"enter first num:\"))\n",
        "b=int(input(\"enter second num:\"))\n",
        "try:\n",
        " res=a/b\n",
        " print(\"result:\",res)\n",
        "except:\n",
        "   print(\"exception handled and program end\")\n",
        "\n"
      ],
      "execution_count": null,
      "outputs": [
        {
          "output_type": "stream",
          "name": "stdout",
          "text": [
            "enter first num:2\n",
            "enter second num:0\n",
            "exception handled and program end\n"
          ]
        }
      ]
    },
    {
      "cell_type": "code",
      "metadata": {
        "colab": {
          "base_uri": "https://localhost:8080/"
        },
        "id": "BIGDMWK2OW3Z",
        "outputId": "d16dba0f-fcc0-43b8-e987-684d739ba363"
      },
      "source": [
        "def msgmng():\n",
        "  try:\n",
        "    message=\"helloworld\"\n",
        "    return helloworld\n",
        "  except NameError:\n",
        "    return\"NameError occured.not defined variable\"\n",
        "print(msgmng())"
      ],
      "execution_count": null,
      "outputs": [
        {
          "output_type": "stream",
          "name": "stdout",
          "text": [
            "NameError occured.not defined variable\n"
          ]
        }
      ]
    },
    {
      "cell_type": "code",
      "metadata": {
        "colab": {
          "base_uri": "https://localhost:8080/"
        },
        "id": "n2_YrL_SSRBj",
        "outputId": "dcb4f4fe-e09b-43ae-c215-d4896a3be31a"
      },
      "source": [
        "class operations:\n",
        "  def __init__(self,n1,n2):\n",
        "    self.n1=n1\n",
        "    self.n2=n2\n",
        "  def add(self,n1,n2):\n",
        "    return self.n1+self.n2\n",
        "  def sub(self,n1,n2):\n",
        "    return self.n1-self.n2\n",
        "  def mul(self,n1,n2):\n",
        "    return self.n1*self.n2\n",
        "  def div(self,n1,n2):\n",
        "    return self.n1/self.n2\n",
        "  def mod(self,n1,n2):\n",
        "    return self.n1%self.n2\n",
        "n1=int(input(\"enter 1st value:\"))\n",
        "n2=int(input(\"enter 2nd value:\"))\n",
        "obj1=operations(n1,n2)\n",
        "print(n1,\"+\",n2,\"=\",obj1.add(n1,n2))\n",
        "print(n1,\"-\",n2,\"=\",obj1.sub(n1,n2))\n",
        "print(n1,\"*\",n2,\"=\",obj1.mul(n1,n2))\n",
        "print(n1,\"/\",n2,\"=\",obj1.div(n1,n2))\n",
        "print(n1,\"%\",n2,\"=\",obj1.mod(n1,n2))\n",
        "\n",
        "\n"
      ],
      "execution_count": null,
      "outputs": [
        {
          "output_type": "stream",
          "name": "stdout",
          "text": [
            "enter 1st value:4\n",
            "enter 2nd value:2\n",
            "4 + 2 = 6\n",
            "4 - 2 = 2\n",
            "4 * 2 = 8\n",
            "4 / 2 = 2.0\n",
            "4 % 2 = 0\n"
          ]
        }
      ]
    }
  ]
}
