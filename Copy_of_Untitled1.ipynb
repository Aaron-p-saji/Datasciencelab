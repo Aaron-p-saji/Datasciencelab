{
  "nbformat": 4,
  "nbformat_minor": 0,
  "metadata": {
    "colab": {
      "name": "Copy of Untitled1.ipynb",
      "provenance": []
    },
    "kernelspec": {
      "name": "python3",
      "display_name": "Python 3"
    },
    "language_info": {
      "name": "python"
    }
  },
  "cells": [
    {
      "cell_type": "code",
      "execution_count": null,
      "metadata": {
        "colab": {
          "base_uri": "https://localhost:8080/"
        },
        "id": "nj030AeRLxxr",
        "outputId": "5444fd33-a02a-462e-ac80-a639b4613a40"
      },
      "outputs": [
        {
          "output_type": "stream",
          "name": "stdout",
          "text": [
            "3.0\n",
            "2.0\n",
            "3.0\n",
            "1.0\n"
          ]
        }
      ],
      "source": [
        "import pandas as pd\n",
        "import numpy as np\n",
        "from math import sqrt\n",
        "\n",
        "# calculate euclidean distance\n",
        "def euclidean_distance(row1,row2):\n",
        "  distance=0.0\n",
        "  for i in range(len(row1)-1):\n",
        "    distance+=(row1[i]-row2[i])**2\n",
        "  return sqrt(distance) \n",
        "dataset1=[[5,6]]  \n",
        "dataset=[[2,3],[7,6],[8,9],[6,7]]\n",
        "row0=dataset1[0]\n",
        "for row in dataset:\n",
        "  distance=euclidean_distance(row0,row)\n",
        "  print(distance)"
      ]
    },
    {
      "cell_type": "code",
      "source": [
        "# locate similar neighbor\n",
        "def get_neighbors(train, test_row, num_neighbors):\n",
        "  distances = list()\n",
        "  for train_row in train:\n",
        "    dist = euclidean_distance(test_row, train_row)\n",
        "    distances.append((train_row, dist))\n",
        "  distances.sort(key=lambda tup: tup[1])\n",
        "  neighbors = list()\n",
        "  for i in range(num_neighbors):\n",
        "    neighbors.append(distances[i][0])\n",
        "  return neighbors\n"
      ],
      "metadata": {
        "id": "SDBivLBLN3-l"
      },
      "execution_count": null,
      "outputs": []
    },
    {
      "cell_type": "code",
      "source": [
        "# test distance function\n",
        "\n",
        "neighbors = get_neighbors(dataset, dataset[0], 4)\n",
        "for neighbor in neighbors:\n",
        "  print(neighbor)\n",
        "\n",
        "\n",
        "# classification \n",
        "def predict_classification(train, test_row, num_neighbors):\n",
        "  neighbors = get_neighbors(train, test_row, num_neighbors)\n",
        "  output_values = [row[-1] for row in neighbors]\n",
        "  prediction = max(set(output_values), key=output_values.count)\n",
        "  return prediction\n",
        " \n",
        "\n",
        "\n",
        "# prediction\n",
        "prediction = predict_classification(dataset, dataset[0], 4)\n",
        "print('Expected : %d \\nGot : %d' % (dataset[0][-1], prediction))"
      ],
      "metadata": {
        "colab": {
          "base_uri": "https://localhost:8080/"
        },
        "id": "rMfd7X-mN_g6",
        "outputId": "b2373d32-da5b-4a12-f3e5-b03ad4a2f25c"
      },
      "execution_count": null,
      "outputs": [
        {
          "output_type": "stream",
          "name": "stdout",
          "text": [
            "[2, 3]\n",
            "[6, 7]\n",
            "[7, 6]\n",
            "[8, 9]\n",
            "Expected : 3 \n",
            "Got : 9\n"
          ]
        }
      ]
    },
    {
      "cell_type": "code",
      "source": [
        ""
      ],
      "metadata": {
        "id": "iPCzsC9JOCEa"
      },
      "execution_count": null,
      "outputs": []
    }
  ]
}