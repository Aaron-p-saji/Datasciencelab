{
  "nbformat": 4,
  "nbformat_minor": 0,
  "metadata": {
    "colab": {
      "name": "K-nn.ipynb",
      "provenance": [],
      "authorship_tag": "ABX9TyM5HV6vRE544y3H8HoyzhXN",
      "include_colab_link": true
    },
    "kernelspec": {
      "name": "python3",
      "display_name": "Python 3"
    },
    "language_info": {
      "name": "python"
    }
  },
  "cells": [
    {
      "cell_type": "markdown",
      "metadata": {
        "id": "view-in-github",
        "colab_type": "text"
      },
      "source": [
        "<a href=\"https://colab.research.google.com/github/AnjanaBabu/Datasciencelab/blob/main/K_nn.ipynb\" target=\"_parent\"><img src=\"https://colab.research.google.com/assets/colab-badge.svg\" alt=\"Open In Colab\"/></a>"
      ]
    },
    {
      "cell_type": "code",
      "source": [
        "from sklearn.neighbors import KNeighborsClassifier\n",
        "model=KNeighborsClassifier(n_neighbors=4)\n",
        "model.fit([[8,5],[3,7],[3,6],[7,3],[6,4]],[1,0,2,1,0])\n",
        "predict=model.predict([[1,4]])\n",
        "print(\"prediction is:\",predict)\n",
        "print(\"probability is:\",model.predict_proba([[0,2]]))"
      ],
      "metadata": {
        "colab": {
          "base_uri": "https://localhost:8080/"
        },
        "id": "uXGkriYpyLvZ",
        "outputId": "b970ce41-685f-412a-aa01-5e4d1aa5c0be"
      },
      "execution_count": null,
      "outputs": [
        {
          "output_type": "stream",
          "name": "stdout",
          "text": [
            "prediction is: [0]\n",
            "probability is: [[0.5  0.25 0.25]]\n"
          ]
        }
      ]
    },
    {
      "cell_type": "code",
      "source": [
        "from sklearn.neighbors import KNeighborsClassifier\n",
        "model=KNeighborsClassifier(n_neighbors=4)\n",
        "from sklearn.datasets import load_iris\n",
        "from sklearn.model_selection import train_test_split\n",
        "X,y=load_iris(return_X_y=True)\n",
        "X_train,X_test,y_test,y_train=train_test_split(X,y,test_size=0.5,random_state=0)\n",
        "y_pred=model.fit(X_train,y_train).predict(X_test)\n",
        "print(\"No of unlabelled points out of a total %d points :%d\" %(X_test.shape[0],(y_test!=y_pred).sum())) "
      ],
      "metadata": {
        "id": "telFzGAW0eYZ",
        "colab": {
          "base_uri": "https://localhost:8080/"
        },
        "outputId": "3239201b-1ac4-4588-f1e6-22602ea34eb8"
      },
      "execution_count": null,
      "outputs": [
        {
          "output_type": "stream",
          "name": "stdout",
          "text": [
            "No of unlabelled points out of a total 75 points :50\n"
          ]
        }
      ]
    }
  ]
}