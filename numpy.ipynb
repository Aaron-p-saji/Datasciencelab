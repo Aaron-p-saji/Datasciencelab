{
  "nbformat": 4,
  "nbformat_minor": 0,
  "metadata": {
    "colab": {
      "name": "numpy.ipynb",
      "provenance": [],
      "collapsed_sections": [],
      "authorship_tag": "ABX9TyOL8yJ12c50f69teZUStLsX"
    },
    "kernelspec": {
      "name": "python3",
      "display_name": "Python 3"
    },
    "language_info": {
      "name": "python"
    }
  },
  "cells": [
    {
      "cell_type": "code",
      "metadata": {
        "id": "NZl3WndHwVlN"
      },
      "source": [
        "import numpy as np\n",
        "arr=np.array([1,2,3,4])\n",
        "print(\"list:\",arr)"
      ],
      "execution_count": null,
      "outputs": []
    },
    {
      "cell_type": "code",
      "metadata": {
        "id": "ePE7XS-SwdPk"
      },
      "source": [
        "import numpy as np\n",
        "arr=np.array([1,2,3,4])\n",
        "print(\"array:\",arr)\n",
        "print(\"type of the array:\",type(arr))"
      ],
      "execution_count": null,
      "outputs": []
    },
    {
      "cell_type": "code",
      "metadata": {
        "id": "2TmuzNeJweNT"
      },
      "source": [
        "import numpy as np\n",
        "tup=(1,2,3,4)\n",
        "print(\"tuple is:\\n\",tup)\n",
        "print(type(tup))\n",
        "print(\"convert tuple to list:\")\n",
        "arr=np.asarray(tup)\n",
        "print(arr)\n",
        "print(type(arr))"
      ],
      "execution_count": null,
      "outputs": []
    },
    {
      "cell_type": "code",
      "metadata": {
        "id": "XKmHgrEVwiS7"
      },
      "source": [
        "import numpy as np\n",
        "a=np.array([1,2,3,4])\n",
        "print(\"1D array:\")\n",
        "print(a)"
      ],
      "execution_count": null,
      "outputs": []
    },
    {
      "cell_type": "code",
      "metadata": {
        "id": "SK_zsXlDwjHr"
      },
      "source": [
        "import numpy as np\n",
        "a=np.array([[1,2,3,4],[5,6,7,8]])\n",
        "print(\"2D array:\")\n",
        "print(a)"
      ],
      "execution_count": null,
      "outputs": []
    },
    {
      "cell_type": "code",
      "metadata": {
        "id": "RdOu8bRJwk3r"
      },
      "source": [
        "import numpy as np\n",
        "a=np.array([[1,2,3,4],[5,6,7,8]])\n",
        "print(\"dimension is:\\n\",a.shape)"
      ],
      "execution_count": null,
      "outputs": []
    },
    {
      "cell_type": "code",
      "metadata": {
        "id": "u_45uUJJwnwk"
      },
      "source": [
        "import numpy as np\n",
        "arr=np.array([1,2,3,4,5,6])\n",
        "newarr=arr.reshape(3,2)\n",
        "print(\"Reshaped array is:\\n\",newarr)"
      ],
      "execution_count": null,
      "outputs": []
    },
    {
      "cell_type": "code",
      "metadata": {
        "id": "gmMDR43wwsz0"
      },
      "source": [
        "import numpy as np\n",
        "a=np.zeros([2,2])\n",
        "print(\"zero matrix:\\n\",a)"
      ],
      "execution_count": null,
      "outputs": []
    },
    {
      "cell_type": "code",
      "metadata": {
        "id": "rg5UHqDpwtbM"
      },
      "source": [
        "import numpy as np\n",
        "a=np.zeros(2)\n",
        "print(\"zero matrix:\\n\",a)"
      ],
      "execution_count": null,
      "outputs": []
    },
    {
      "cell_type": "code",
      "metadata": {
        "id": "b7MSpC6Gw4hW"
      },
      "source": [
        "import numpy as np\n",
        "a=np.ones([4,4])\n",
        "print(\"ones matrix:\\n\",a)"
      ],
      "execution_count": null,
      "outputs": []
    },
    {
      "cell_type": "code",
      "metadata": {
        "id": "HtIf8xxRw7Or"
      },
      "source": [
        "import numpy as np\n",
        "a=np.ones([4,4],dtype=int)\n",
        "print(\"ones matrix in integer:\\n\",a)"
      ],
      "execution_count": null,
      "outputs": []
    },
    {
      "cell_type": "code",
      "metadata": {
        "id": "MoJ9NYyww8Bj"
      },
      "source": [
        "import numpy as np\n",
        "a=np.eye(3,3,dtype=int)\n",
        "print(\"identity matrix:\\n\",a)\n"
      ],
      "execution_count": null,
      "outputs": []
    },
    {
      "cell_type": "code",
      "metadata": {
        "id": "PgK6P2A0xADj"
      },
      "source": [
        "import numpy as np\n",
        "a=np.eye(3,3)\n",
        "print(\"identity matrix:\\n\",a)"
      ],
      "execution_count": null,
      "outputs": []
    },
    {
      "cell_type": "code",
      "metadata": {
        "id": "XoUYkpuFxEiL"
      },
      "source": [
        "import numpy as np\n",
        "a=np.arange(0,11)\n",
        "print(\"Range is:\\n\",a)"
      ],
      "execution_count": null,
      "outputs": []
    },
    {
      "cell_type": "code",
      "metadata": {
        "id": "P9ZUQtTexFdL"
      },
      "source": [
        "import numpy as np\n",
        "a=int(input(\"enter a start value:\"))\n",
        "b=int(input(\"enter a end value:\"))\n",
        "a=np.arange(a,b)\n",
        "print(\"identity matrix:\\n\",a)"
      ],
      "execution_count": null,
      "outputs": []
    },
    {
      "cell_type": "code",
      "metadata": {
        "id": "MhDMA6qGxHpr"
      },
      "source": [
        "import numpy as np\n",
        "a=np.array([2,4,6,8])\n",
        "b=np.array([3,5,9,11])\n",
        "c=np.add(a,b)\n",
        "d=(a-b)\n",
        "e=(b-a)\n",
        "f=(a**2)\n",
        "print(\"addition of 2 1D array:\\n\",c)\n",
        "print(\"a-b of 2 1D array:\\n\",d)\n",
        "print(\"b-a of 2 1D array:\\n\",e)\n",
        "print(\"a**2 of 2 1D array:\\n\",f)"
      ],
      "execution_count": null,
      "outputs": []
    },
    {
      "cell_type": "code",
      "metadata": {
        "id": "iSuzMHGixM4L"
      },
      "source": [
        "import numpy as np\n",
        "a=np.linspace(2,3,num=7)\n",
        "print(a)"
      ],
      "execution_count": null,
      "outputs": []
    },
    {
      "cell_type": "code",
      "metadata": {
        "id": "u8yDra4SxOrj"
      },
      "source": [
        "import numpy as np\n",
        "a=np.linspace(2,3,num=7,dtype=int)\n",
        "print(a)\n"
      ],
      "execution_count": null,
      "outputs": []
    },
    {
      "cell_type": "code",
      "metadata": {
        "id": "YsGaiGitxRo7"
      },
      "source": [
        "import numpy as np\n",
        "a=np.linspace(2,3,num=7,endpoint=False,dtype=int)\n",
        "print(a)"
      ],
      "execution_count": null,
      "outputs": []
    },
    {
      "cell_type": "code",
      "metadata": {
        "id": "-HuZt_m1xUhb"
      },
      "source": [
        "import numpy as np\n",
        "a=np.linspace(2,3,num=7,endpoint=True,dtype=int)\n",
        "print(a)"
      ],
      "execution_count": null,
      "outputs": []
    },
    {
      "cell_type": "code",
      "metadata": {
        "id": "U0nqd7A9xWWr"
      },
      "source": [
        "import numpy as np\n",
        "a=np.linspace(2,3,num=7,retstep=True,dtype=int)\n",
        "print(a)"
      ],
      "execution_count": null,
      "outputs": []
    },
    {
      "cell_type": "code",
      "metadata": {
        "id": "eeOjm4uxxYKL"
      },
      "source": [
        "import numpy as np\n",
        "arr=np.array([1,2,3,4,5,6])\n",
        "print(\"array is:\\n\",arr)\n",
        "arr.resize(3,3)\n",
        "print(\"Resized array is:\\n\",arr)"
      ],
      "execution_count": null,
      "outputs": []
    },
    {
      "cell_type": "code",
      "metadata": {
        "id": "GfNL9rhjxbqT"
      },
      "source": [
        "import numpy as np\n",
        "x=np.rand(5)\n",
        "print (x)"
      ],
      "execution_count": null,
      "outputs": []
    },
    {
      "cell_type": "code",
      "metadata": {
        "id": "aLhEi0vUxcS0",
        "colab": {
          "base_uri": "https://localhost:8080/"
        },
        "outputId": "983f5b16-1df4-4e0c-b237-895cac23a300"
      },
      "source": [
        "import numpy as np\n",
        "a=np.array([[1,4,1],[2,3,4],[3,2,1]])\n",
        "U,D,VT=np.linalg.svd(a)\n",
        "a_remake=(U @np.diag(D)@VT)\n",
        "print(a_remake)"
      ],
      "execution_count": null,
      "outputs": [
        {
          "output_type": "stream",
          "name": "stdout",
          "text": [
            "[[1. 4. 1.]\n",
            " [2. 3. 4.]\n",
            " [3. 2. 1.]]\n"
          ]
        }
      ]
    },
    {
      "cell_type": "code",
      "metadata": {
        "colab": {
          "base_uri": "https://localhost:8080/"
        },
        "id": "Z1-nWJl1TayZ",
        "outputId": "b6078457-6442-4202-b336-77de16734719"
      },
      "source": [
        "import numpy as np\n",
        "a=np.array([[1,4,1],[2,3,4],[3,2,1]])\n",
        "U,D,VT=np.linalg.svd(a)\n",
        "print(a)"
      ],
      "execution_count": null,
      "outputs": [
        {
          "output_type": "stream",
          "name": "stdout",
          "text": [
            "[[1 4 1]\n",
            " [2 3 4]\n",
            " [3 2 1]]\n"
          ]
        }
      ]
    },
    {
      "cell_type": "code",
      "metadata": {
        "colab": {
          "base_uri": "https://localhost:8080/"
        },
        "id": "k4DE_myOUfyp",
        "outputId": "33ebff43-2bbe-46a1-db18-057bad4d36d8"
      },
      "source": [
        "a=[[1,2],\n",
        "   [3,5],\n",
        "   [5,6]]\n",
        "Transpose=[[0,0,0],\n",
        "           [0,0,0]]\n",
        "for i in range(len(a)):\n",
        "    for j in range(len(a[0])):\n",
        "          Transpose[j][i]=a[i][j]\n",
        "for T in Transpose:\n",
        "  print(T)\n",
        "                        "
      ],
      "execution_count": null,
      "outputs": [
        {
          "output_type": "stream",
          "name": "stdout",
          "text": [
            "[1, 3, 5]\n",
            "[2, 5, 6]\n"
          ]
        }
      ]
    }
  ]
}